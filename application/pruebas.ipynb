{
 "cells": [
  {
   "cell_type": "code",
   "execution_count": 1,
   "metadata": {},
   "outputs": [],
   "source": [
    "import pandas as pd\n",
    "import numpy as np\n",
    "import math"
   ]
  },
  {
   "cell_type": "code",
   "execution_count": 2,
   "metadata": {},
   "outputs": [],
   "source": [
    "def get_results():\n",
    "  file = \"results.json\"\n",
    "  path = '../dataset/'+file\n",
    "  results = pd.read_json(path, orient='index',encoding = 'utf-8')\n",
    "  # dataset = pd.read_json(path, orient='split',encoding = 'utf-8')\n",
    "  # dataset.reset_index(inplace=True)\n",
    "  return results"
   ]
  },
  {
   "cell_type": "code",
   "execution_count": 3,
   "metadata": {},
   "outputs": [],
   "source": [
    "def get_survey():\n",
    "  file = \"survey.json\"\n",
    "  path = '../dataset/'+file\n",
    "  survey = pd.read_json(path, orient='index',encoding = 'utf-8')\n",
    "  # dataset = pd.read_json(path, orient='split',encoding = 'utf-8')\n",
    "  # dataset.reset_index(inplace=True)\n",
    "  return survey"
   ]
  },
  {
   "cell_type": "code",
   "execution_count": 4,
   "metadata": {},
   "outputs": [],
   "source": [
    "def get_resultado():\n",
    "  path = '../fuente/resultado_encuesta.csv'\n",
    "  result = pd.read_csv(path, encoding = 'utf-8', sep=',')\n",
    "  return result"
   ]
  },
  {
   "cell_type": "code",
   "execution_count": 23,
   "metadata": {},
   "outputs": [],
   "source": [
    "def get_datos_universidades():\n",
    "  path = '../fuente/DetProgramas_data.csv'\n",
    "  universidades = pd.read_csv(path, encoding = 'utf_16', sep='\\t')\n",
    "  return universidades"
   ]
  },
  {
   "cell_type": "code",
   "execution_count": 22,
   "metadata": {},
   "outputs": [
    {
     "data": {
      "text/plain": [
       "<CharsetMatch 'utf_16' bytes(e72d4970a4cff31d8d70c34156c8c448ab575eb41244d73e4fa932b269b644a3)>"
      ]
     },
     "execution_count": 22,
     "metadata": {},
     "output_type": "execute_result"
    }
   ],
   "source": [
    "from charset_normalizer import from_path\n",
    "\n",
    "results = from_path('../fuente/DetProgramas_data.csv')\n",
    "\n",
    "results.best()"
   ]
  },
  {
   "cell_type": "code",
   "execution_count": 24,
   "metadata": {},
   "outputs": [
    {
     "data": {
      "text/html": [
       "<div>\n",
       "<style scoped>\n",
       "    .dataframe tbody tr th:only-of-type {\n",
       "        vertical-align: middle;\n",
       "    }\n",
       "\n",
       "    .dataframe tbody tr th {\n",
       "        vertical-align: top;\n",
       "    }\n",
       "\n",
       "    .dataframe thead th {\n",
       "        text-align: right;\n",
       "    }\n",
       "</style>\n",
       "<table border=\"1\" class=\"dataframe\">\n",
       "  <thead>\n",
       "    <tr style=\"text-align: right;\">\n",
       "      <th></th>\n",
       "      <th>UNIVERSIDAD</th>\n",
       "      <th>TIPO DE GESTIÓN</th>\n",
       "      <th>NIVEL PROGRAMA</th>\n",
       "      <th>FAMILIA DE CARRERAS</th>\n",
       "      <th>PROGRAMAS DE ESTUDIO</th>\n",
       "      <th>Dim Sexo.Desc Sexo</th>\n",
       "      <th>Cant Estudiantes</th>\n",
       "    </tr>\n",
       "  </thead>\n",
       "  <tbody>\n",
       "    <tr>\n",
       "      <th>0</th>\n",
       "      <td>ASOCIACIÓN CIVIL UNIVERSIDAD CATÓLICA DE TRUJI...</td>\n",
       "      <td>PRIVADA ASOCIATIVA</td>\n",
       "      <td>PREGRADO</td>\n",
       "      <td>CIENCIAS ADMINISTRATIVAS Y COMERCIALES</td>\n",
       "      <td>ADMINISTRACIÓN TURÍSTICA</td>\n",
       "      <td>FEMENINO</td>\n",
       "      <td>12</td>\n",
       "    </tr>\n",
       "    <tr>\n",
       "      <th>1</th>\n",
       "      <td>ASOCIACIÓN CIVIL UNIVERSIDAD CATÓLICA DE TRUJI...</td>\n",
       "      <td>PRIVADA ASOCIATIVA</td>\n",
       "      <td>PREGRADO</td>\n",
       "      <td>CIENCIAS ADMINISTRATIVAS Y COMERCIALES</td>\n",
       "      <td>ADMINISTRACIÓN</td>\n",
       "      <td>FEMENINO</td>\n",
       "      <td>88</td>\n",
       "    </tr>\n",
       "    <tr>\n",
       "      <th>2</th>\n",
       "      <td>ASOCIACIÓN CIVIL UNIVERSIDAD CATÓLICA DE TRUJI...</td>\n",
       "      <td>PRIVADA ASOCIATIVA</td>\n",
       "      <td>PREGRADO</td>\n",
       "      <td>CIENCIAS ADMINISTRATIVAS Y COMERCIALES</td>\n",
       "      <td>ADMINISTRACIÓN TURÍSTICA</td>\n",
       "      <td>MASCULINO</td>\n",
       "      <td>2</td>\n",
       "    </tr>\n",
       "    <tr>\n",
       "      <th>3</th>\n",
       "      <td>ASOCIACIÓN CIVIL UNIVERSIDAD CATÓLICA DE TRUJI...</td>\n",
       "      <td>PRIVADA ASOCIATIVA</td>\n",
       "      <td>PREGRADO</td>\n",
       "      <td>CIENCIAS ADMINISTRATIVAS Y COMERCIALES</td>\n",
       "      <td>ADMINISTRACIÓN</td>\n",
       "      <td>MASCULINO</td>\n",
       "      <td>40</td>\n",
       "    </tr>\n",
       "    <tr>\n",
       "      <th>4</th>\n",
       "      <td>ASOCIACIÓN CIVIL UNIVERSIDAD CATÓLICA DE TRUJI...</td>\n",
       "      <td>PRIVADA ASOCIATIVA</td>\n",
       "      <td>PREGRADO</td>\n",
       "      <td>CIENCIAS DE LA COMUNICACION</td>\n",
       "      <td>CIENCIAS DE LA COMUNICACIÓN</td>\n",
       "      <td>FEMENINO</td>\n",
       "      <td>12</td>\n",
       "    </tr>\n",
       "    <tr>\n",
       "      <th>...</th>\n",
       "      <td>...</td>\n",
       "      <td>...</td>\n",
       "      <td>...</td>\n",
       "      <td>...</td>\n",
       "      <td>...</td>\n",
       "      <td>...</td>\n",
       "      <td>...</td>\n",
       "    </tr>\n",
       "    <tr>\n",
       "      <th>3059</th>\n",
       "      <td>UNIVERSIDAD TECNOLÓGICA DE LOS ANDES</td>\n",
       "      <td>PRIVADA ASOCIATIVA</td>\n",
       "      <td>PREGRADO</td>\n",
       "      <td>INGENIERIA DE SISTEMAS Y TELECOMUNICACIONES</td>\n",
       "      <td>INGENIERIA DE SISTEMAS E INFORMATICA</td>\n",
       "      <td>MASCULINO</td>\n",
       "      <td>113</td>\n",
       "    </tr>\n",
       "    <tr>\n",
       "      <th>3060</th>\n",
       "      <td>UNIVERSIDAD TECNOLÓGICA DE LOS ANDES</td>\n",
       "      <td>PRIVADA ASOCIATIVA</td>\n",
       "      <td>PREGRADO</td>\n",
       "      <td>OTRAS CARRERAS DE EDUCACION</td>\n",
       "      <td>EDUCACION</td>\n",
       "      <td>FEMENINO</td>\n",
       "      <td>75</td>\n",
       "    </tr>\n",
       "    <tr>\n",
       "      <th>3061</th>\n",
       "      <td>UNIVERSIDAD TECNOLÓGICA DE LOS ANDES</td>\n",
       "      <td>PRIVADA ASOCIATIVA</td>\n",
       "      <td>PREGRADO</td>\n",
       "      <td>OTRAS CARRERAS DE EDUCACION</td>\n",
       "      <td>EDUCACION</td>\n",
       "      <td>MASCULINO</td>\n",
       "      <td>20</td>\n",
       "    </tr>\n",
       "    <tr>\n",
       "      <th>3062</th>\n",
       "      <td>UNIVERSIDAD TECNOLÓGICA DE LOS ANDES</td>\n",
       "      <td>PRIVADA ASOCIATIVA</td>\n",
       "      <td>PREGRADO</td>\n",
       "      <td>OTRAS INGENIERIAS</td>\n",
       "      <td>INGENIERIA AMBIENTAL Y RECURSOS NATURALES</td>\n",
       "      <td>FEMENINO</td>\n",
       "      <td>196</td>\n",
       "    </tr>\n",
       "    <tr>\n",
       "      <th>3063</th>\n",
       "      <td>UNIVERSIDAD TECNOLÓGICA DE LOS ANDES</td>\n",
       "      <td>PRIVADA ASOCIATIVA</td>\n",
       "      <td>PREGRADO</td>\n",
       "      <td>OTRAS INGENIERIAS</td>\n",
       "      <td>INGENIERIA AMBIENTAL Y RECURSOS NATURALES</td>\n",
       "      <td>MASCULINO</td>\n",
       "      <td>277</td>\n",
       "    </tr>\n",
       "  </tbody>\n",
       "</table>\n",
       "<p>3064 rows × 7 columns</p>\n",
       "</div>"
      ],
      "text/plain": [
       "                                            UNIVERSIDAD     TIPO DE GESTIÓN  \\\n",
       "0     ASOCIACIÓN CIVIL UNIVERSIDAD CATÓLICA DE TRUJI...  PRIVADA ASOCIATIVA   \n",
       "1     ASOCIACIÓN CIVIL UNIVERSIDAD CATÓLICA DE TRUJI...  PRIVADA ASOCIATIVA   \n",
       "2     ASOCIACIÓN CIVIL UNIVERSIDAD CATÓLICA DE TRUJI...  PRIVADA ASOCIATIVA   \n",
       "3     ASOCIACIÓN CIVIL UNIVERSIDAD CATÓLICA DE TRUJI...  PRIVADA ASOCIATIVA   \n",
       "4     ASOCIACIÓN CIVIL UNIVERSIDAD CATÓLICA DE TRUJI...  PRIVADA ASOCIATIVA   \n",
       "...                                                 ...                 ...   \n",
       "3059               UNIVERSIDAD TECNOLÓGICA DE LOS ANDES  PRIVADA ASOCIATIVA   \n",
       "3060               UNIVERSIDAD TECNOLÓGICA DE LOS ANDES  PRIVADA ASOCIATIVA   \n",
       "3061               UNIVERSIDAD TECNOLÓGICA DE LOS ANDES  PRIVADA ASOCIATIVA   \n",
       "3062               UNIVERSIDAD TECNOLÓGICA DE LOS ANDES  PRIVADA ASOCIATIVA   \n",
       "3063               UNIVERSIDAD TECNOLÓGICA DE LOS ANDES  PRIVADA ASOCIATIVA   \n",
       "\n",
       "     NIVEL PROGRAMA                          FAMILIA DE CARRERAS  \\\n",
       "0          PREGRADO       CIENCIAS ADMINISTRATIVAS Y COMERCIALES   \n",
       "1          PREGRADO       CIENCIAS ADMINISTRATIVAS Y COMERCIALES   \n",
       "2          PREGRADO       CIENCIAS ADMINISTRATIVAS Y COMERCIALES   \n",
       "3          PREGRADO       CIENCIAS ADMINISTRATIVAS Y COMERCIALES   \n",
       "4          PREGRADO                  CIENCIAS DE LA COMUNICACION   \n",
       "...             ...                                          ...   \n",
       "3059       PREGRADO  INGENIERIA DE SISTEMAS Y TELECOMUNICACIONES   \n",
       "3060       PREGRADO                  OTRAS CARRERAS DE EDUCACION   \n",
       "3061       PREGRADO                  OTRAS CARRERAS DE EDUCACION   \n",
       "3062       PREGRADO                            OTRAS INGENIERIAS   \n",
       "3063       PREGRADO                            OTRAS INGENIERIAS   \n",
       "\n",
       "                           PROGRAMAS DE ESTUDIO Dim Sexo.Desc Sexo  \\\n",
       "0                      ADMINISTRACIÓN TURÍSTICA           FEMENINO   \n",
       "1                                ADMINISTRACIÓN           FEMENINO   \n",
       "2                      ADMINISTRACIÓN TURÍSTICA          MASCULINO   \n",
       "3                                ADMINISTRACIÓN          MASCULINO   \n",
       "4                   CIENCIAS DE LA COMUNICACIÓN           FEMENINO   \n",
       "...                                         ...                ...   \n",
       "3059       INGENIERIA DE SISTEMAS E INFORMATICA          MASCULINO   \n",
       "3060                                  EDUCACION           FEMENINO   \n",
       "3061                                  EDUCACION          MASCULINO   \n",
       "3062  INGENIERIA AMBIENTAL Y RECURSOS NATURALES           FEMENINO   \n",
       "3063  INGENIERIA AMBIENTAL Y RECURSOS NATURALES          MASCULINO   \n",
       "\n",
       "      Cant Estudiantes  \n",
       "0                   12  \n",
       "1                   88  \n",
       "2                    2  \n",
       "3                   40  \n",
       "4                   12  \n",
       "...                ...  \n",
       "3059               113  \n",
       "3060                75  \n",
       "3061                20  \n",
       "3062               196  \n",
       "3063               277  \n",
       "\n",
       "[3064 rows x 7 columns]"
      ]
     },
     "execution_count": 24,
     "metadata": {},
     "output_type": "execute_result"
    }
   ],
   "source": [
    "uni = get_datos_universidades()\n",
    "uni"
   ]
  },
  {
   "cell_type": "code",
   "execution_count": 16,
   "metadata": {},
   "outputs": [
    {
     "data": {
      "text/html": [
       "<div>\n",
       "<style scoped>\n",
       "    .dataframe tbody tr th:only-of-type {\n",
       "        vertical-align: middle;\n",
       "    }\n",
       "\n",
       "    .dataframe tbody tr th {\n",
       "        vertical-align: top;\n",
       "    }\n",
       "\n",
       "    .dataframe thead th {\n",
       "        text-align: right;\n",
       "    }\n",
       "</style>\n",
       "<table border=\"1\" class=\"dataframe\">\n",
       "  <thead>\n",
       "    <tr style=\"text-align: right;\">\n",
       "      <th></th>\n",
       "      <th>index</th>\n",
       "      <th>agrado</th>\n",
       "      <th>indiferente</th>\n",
       "      <th>desagrado</th>\n",
       "      <th>total</th>\n",
       "    </tr>\n",
       "  </thead>\n",
       "  <tbody>\n",
       "    <tr>\n",
       "      <th>0</th>\n",
       "      <td>ital</td>\n",
       "      <td>9</td>\n",
       "      <td>4</td>\n",
       "      <td>2</td>\n",
       "      <td>15</td>\n",
       "    </tr>\n",
       "    <tr>\n",
       "      <th>1</th>\n",
       "      <td>im</td>\n",
       "      <td>6</td>\n",
       "      <td>6</td>\n",
       "      <td>2</td>\n",
       "      <td>14</td>\n",
       "    </tr>\n",
       "    <tr>\n",
       "      <th>2</th>\n",
       "      <td>tei</td>\n",
       "      <td>6</td>\n",
       "      <td>6</td>\n",
       "      <td>2</td>\n",
       "      <td>14</td>\n",
       "    </tr>\n",
       "  </tbody>\n",
       "</table>\n",
       "</div>"
      ],
      "text/plain": [
       "  index  agrado  indiferente  desagrado  total\n",
       "0  ital       9            4          2     15\n",
       "1    im       6            6          2     14\n",
       "2   tei       6            6          2     14"
      ]
     },
     "execution_count": 16,
     "metadata": {},
     "output_type": "execute_result"
    }
   ],
   "source": [
    "tabla = get_resultado()\n",
    "tabla"
   ]
  },
  {
   "cell_type": "code",
   "execution_count": 25,
   "metadata": {},
   "outputs": [
    {
     "data": {
      "text/html": [
       "<div>\n",
       "<style scoped>\n",
       "    .dataframe tbody tr th:only-of-type {\n",
       "        vertical-align: middle;\n",
       "    }\n",
       "\n",
       "    .dataframe tbody tr th {\n",
       "        vertical-align: top;\n",
       "    }\n",
       "\n",
       "    .dataframe thead th {\n",
       "        text-align: right;\n",
       "    }\n",
       "</style>\n",
       "<table border=\"1\" class=\"dataframe\">\n",
       "  <thead>\n",
       "    <tr style=\"text-align: right;\">\n",
       "      <th></th>\n",
       "      <th>index</th>\n",
       "      <th>description</th>\n",
       "      <th>content</th>\n",
       "      <th>careers</th>\n",
       "      <th>author</th>\n",
       "    </tr>\n",
       "  </thead>\n",
       "  <tbody>\n",
       "    <tr>\n",
       "      <th>2</th>\n",
       "      <td>ital</td>\n",
       "      <td>Intereses para el trabajo al Aire Libre</td>\n",
       "      <td>Te gusta realizar trabajos que tengan que ver ...</td>\n",
       "      <td>[Oficial de las Fuerzas Armadas o Policiales, ...</td>\n",
       "      <td>NaN</td>\n",
       "    </tr>\n",
       "  </tbody>\n",
       "</table>\n",
       "</div>"
      ],
      "text/plain": [
       "  index                              description  \\\n",
       "2  ital  Intereses para el trabajo al Aire Libre   \n",
       "\n",
       "                                             content  \\\n",
       "2  Te gusta realizar trabajos que tengan que ver ...   \n",
       "\n",
       "                                             careers author  \n",
       "2  [Oficial de las Fuerzas Armadas o Policiales, ...    NaN  "
      ]
     },
     "execution_count": 25,
     "metadata": {},
     "output_type": "execute_result"
    }
   ],
   "source": [
    "result = get_results()\n",
    "result.reset_index(inplace=True)\n",
    "result.loc[result['index'] == 'ital']"
   ]
  },
  {
   "cell_type": "code",
   "execution_count": 41,
   "metadata": {},
   "outputs": [
    {
     "data": {
      "text/plain": [
       "['Oficial de las Fuerzas Armadas o Policiales',\n",
       " 'Ingeniería Agrícola',\n",
       " 'Ingeniería Agroindustrial',\n",
       " 'Agronomía',\n",
       " 'Economía',\n",
       " 'Economía Agraria y Agrícola',\n",
       " 'Ingeniería Forestal',\n",
       " 'Ingeniería Pesquera',\n",
       " 'Pesquería',\n",
       " 'Zootecnia',\n",
       " 'Ingeniería Civil (de carreteras, ferrocarriles, puentes, represas, etc)',\n",
       " 'Medicina Veterinaria',\n",
       " 'Arquitectura (especialmente paisajista)']"
      ]
     },
     "execution_count": 41,
     "metadata": {},
     "output_type": "execute_result"
    }
   ],
   "source": [
    "result['careers'].loc[result['index'] == 'ital'].values[0]"
   ]
  },
  {
   "cell_type": "code",
   "execution_count": 10,
   "metadata": {},
   "outputs": [
    {
     "data": {
      "text/plain": [
       "'Además de este reporte, es importante que busques mayor información de tu interés vocacional seleccionado, de igual forma de las diferentes profesiones que aquí se mencionan.  Así, en el momento de escoger tu carrera tendrás más datos posibles y podrás realizar una mejor elección profesional'"
      ]
     },
     "execution_count": 10,
     "metadata": {},
     "output_type": "execute_result"
    }
   ],
   "source": [
    "result.content['note']"
   ]
  },
  {
   "cell_type": "code",
   "execution_count": 11,
   "metadata": {},
   "outputs": [
    {
     "data": {
      "text/html": [
       "<div>\n",
       "<style scoped>\n",
       "    .dataframe tbody tr th:only-of-type {\n",
       "        vertical-align: middle;\n",
       "    }\n",
       "\n",
       "    .dataframe tbody tr th {\n",
       "        vertical-align: top;\n",
       "    }\n",
       "\n",
       "    .dataframe thead th {\n",
       "        text-align: right;\n",
       "    }\n",
       "</style>\n",
       "<table border=\"1\" class=\"dataframe\">\n",
       "  <thead>\n",
       "    <tr style=\"text-align: right;\">\n",
       "      <th></th>\n",
       "      <th>description</th>\n",
       "      <th>q1</th>\n",
       "      <th>q2</th>\n",
       "      <th>q3</th>\n",
       "      <th>q4</th>\n",
       "      <th>q5</th>\n",
       "      <th>q6</th>\n",
       "      <th>q7</th>\n",
       "    </tr>\n",
       "  </thead>\n",
       "  <tbody>\n",
       "    <tr>\n",
       "      <th>im</th>\n",
       "      <td>Intereses Mecánicos</td>\n",
       "      <td>Revisar televisores.</td>\n",
       "      <td>Armar rompecabezas.</td>\n",
       "      <td>Construir edificios.</td>\n",
       "      <td>Diseñar maquinas industriales.</td>\n",
       "      <td>Imaginar figuras en varias dimensiones.</td>\n",
       "      <td>Idear aparatos de laboratorio.</td>\n",
       "      <td>Armar modelos de aviones y de barcos en miniat...</td>\n",
       "    </tr>\n",
       "    <tr>\n",
       "      <th>tei</th>\n",
       "      <td>Intereses en la Técnica, Electrónica e Ingeniería</td>\n",
       "      <td>Diseñar automóviles.</td>\n",
       "      <td>Controlar hornos para fundir metales.</td>\n",
       "      <td>Programar vuelos aeronáuticos.</td>\n",
       "      <td>Hacer conexiones eléctricas en un edificio.</td>\n",
       "      <td>Probar equipos de rayos X.</td>\n",
       "      <td>Pensar sobre el origen del tiempo.</td>\n",
       "      <td>Dibujar mapas de suelos.</td>\n",
       "    </tr>\n",
       "    <tr>\n",
       "      <th>ital</th>\n",
       "      <td>Intereses para el trabajo al Aire Libre</td>\n",
       "      <td>Manejar obreros en una construcción.</td>\n",
       "      <td>Estudiar y clasificar plantas.</td>\n",
       "      <td>Dirigir un ejercito.</td>\n",
       "      <td>Enseñar educación física.</td>\n",
       "      <td>Organizar una granja.</td>\n",
       "      <td>Curar animales.</td>\n",
       "      <td>Manejar las relaciones públicas de una empresa.</td>\n",
       "    </tr>\n",
       "    <tr>\n",
       "      <th>ic</th>\n",
       "      <td>Intereses Científicos</td>\n",
       "      <td>Mirar a través de microscopios y/o telescopios.</td>\n",
       "      <td>Frecuentar las bibliotecas.</td>\n",
       "      <td>Observar el comportamiento de la gente.</td>\n",
       "      <td>Imaginar relaciones entre las cosas.</td>\n",
       "      <td>Hacer combinaciones de sustancias.</td>\n",
       "      <td>Estudiar los vientos y las mareas.</td>\n",
       "      <td>Controlar la calidad de un producto.</td>\n",
       "    </tr>\n",
       "  </tbody>\n",
       "</table>\n",
       "</div>"
      ],
      "text/plain": [
       "                                            description  \\\n",
       "im                                  Intereses Mecánicos   \n",
       "tei   Intereses en la Técnica, Electrónica e Ingeniería   \n",
       "ital            Intereses para el trabajo al Aire Libre   \n",
       "ic                                Intereses Científicos   \n",
       "\n",
       "                                                   q1  \\\n",
       "im                               Revisar televisores.   \n",
       "tei                              Diseñar automóviles.   \n",
       "ital             Manejar obreros en una construcción.   \n",
       "ic    Mirar a través de microscopios y/o telescopios.   \n",
       "\n",
       "                                         q2  \\\n",
       "im                      Armar rompecabezas.   \n",
       "tei   Controlar hornos para fundir metales.   \n",
       "ital         Estudiar y clasificar plantas.   \n",
       "ic              Frecuentar las bibliotecas.   \n",
       "\n",
       "                                           q3  \\\n",
       "im                       Construir edificios.   \n",
       "tei            Programar vuelos aeronáuticos.   \n",
       "ital                     Dirigir un ejercito.   \n",
       "ic    Observar el comportamiento de la gente.   \n",
       "\n",
       "                                               q4  \\\n",
       "im                 Diseñar maquinas industriales.   \n",
       "tei   Hacer conexiones eléctricas en un edificio.   \n",
       "ital                    Enseñar educación física.   \n",
       "ic           Imaginar relaciones entre las cosas.   \n",
       "\n",
       "                                           q5  \\\n",
       "im    Imaginar figuras en varias dimensiones.   \n",
       "tei                Probar equipos de rayos X.   \n",
       "ital                    Organizar una granja.   \n",
       "ic         Hacer combinaciones de sustancias.   \n",
       "\n",
       "                                      q6  \\\n",
       "im        Idear aparatos de laboratorio.   \n",
       "tei   Pensar sobre el origen del tiempo.   \n",
       "ital                     Curar animales.   \n",
       "ic    Estudiar los vientos y las mareas.   \n",
       "\n",
       "                                                     q7  \n",
       "im    Armar modelos de aviones y de barcos en miniat...  \n",
       "tei                            Dibujar mapas de suelos.  \n",
       "ital    Manejar las relaciones públicas de una empresa.  \n",
       "ic                 Controlar la calidad de un producto.  "
      ]
     },
     "execution_count": 11,
     "metadata": {},
     "output_type": "execute_result"
    }
   ],
   "source": [
    "survey = get_survey()\n",
    "survey"
   ]
  },
  {
   "cell_type": "code",
   "execution_count": 12,
   "metadata": {},
   "outputs": [
    {
     "data": {
      "text/plain": [
       "str"
      ]
     },
     "execution_count": 12,
     "metadata": {},
     "output_type": "execute_result"
    }
   ],
   "source": [
    "type(survey[\"q3\"][\"im\"])"
   ]
  },
  {
   "cell_type": "code",
   "execution_count": 13,
   "metadata": {},
   "outputs": [
    {
     "ename": "TypeError",
     "evalue": "must be real number, not str",
     "output_type": "error",
     "traceback": [
      "\u001b[0;31m---------------------------------------------------------------------------\u001b[0m",
      "\u001b[0;31mTypeError\u001b[0m                                 Traceback (most recent call last)",
      "\u001b[1;32m/Volumes/DATOS/encuesta_ovocacional/application/pruebas.ipynb Celda 9\u001b[0m in \u001b[0;36m<module>\u001b[0;34m\u001b[0m\n\u001b[0;32m----> <a href='vscode-notebook-cell:/Volumes/DATOS/encuesta_ovocacional/application/pruebas.ipynb#ch0000007?line=0'>1</a>\u001b[0m \u001b[39mif\u001b[39;00m math\u001b[39m.\u001b[39;49misnan(survey[\u001b[39m\"\u001b[39;49m\u001b[39mq3\u001b[39;49m\u001b[39m\"\u001b[39;49m][\u001b[39m\"\u001b[39;49m\u001b[39mim\u001b[39;49m\u001b[39m\"\u001b[39;49m]):\n\u001b[1;32m      <a href='vscode-notebook-cell:/Volumes/DATOS/encuesta_ovocacional/application/pruebas.ipynb#ch0000007?line=1'>2</a>\u001b[0m   \u001b[39mprint\u001b[39m(\u001b[39mTrue\u001b[39;00m)\n\u001b[1;32m      <a href='vscode-notebook-cell:/Volumes/DATOS/encuesta_ovocacional/application/pruebas.ipynb#ch0000007?line=2'>3</a>\u001b[0m \u001b[39melse\u001b[39;00m:\n",
      "\u001b[0;31mTypeError\u001b[0m: must be real number, not str"
     ]
    }
   ],
   "source": [
    "if math.isnan(survey[\"q3\"][\"im\"]):\n",
    "  print(True)\n",
    "else:\n",
    "  print(False)"
   ]
  },
  {
   "cell_type": "code",
   "execution_count": null,
   "metadata": {},
   "outputs": [
    {
     "data": {
      "text/plain": [
       "'Intereses Mecánicos'"
      ]
     },
     "execution_count": 34,
     "metadata": {},
     "output_type": "execute_result"
    }
   ],
   "source": [
    "indice = survey.index[0]\n",
    "survey.loc[indice][0]"
   ]
  },
  {
   "cell_type": "code",
   "execution_count": null,
   "metadata": {},
   "outputs": [
    {
     "data": {
      "text/plain": [
       "'Organizar las actividades académicas de un plantel educativo.'"
      ]
     },
     "execution_count": 38,
     "metadata": {},
     "output_type": "execute_result"
    }
   ],
   "source": [
    "survey.q6['dse']"
   ]
  },
  {
   "cell_type": "code",
   "execution_count": null,
   "metadata": {},
   "outputs": [
    {
     "name": "stdout",
     "output_type": "stream",
     "text": [
      "[{'ml_q1_agrado': 0}, {'ml_q1_indiferente': 1}, {'ml_q1_desagrado': 2}, {'ml_q2_agrado': 0}, {'ml_q2_indiferente': 1}, {'ml_q2_desagrado': 2}, {'ic_q1_agrado': 0}, {'ic_q1_indiferente': 1}, {'ic_q1_desagrado': 2}, {'ic_q2_agrado': 0}, {'ic_q2_indiferente': 1}, {'ic_q2_desagrado': 2}]\n"
     ]
    }
   ],
   "source": [
    "areas=['ml','ic']\n",
    "preguntas = ['q1', 'q2']\n",
    "alternativas= ['agrado','indiferente','desagrado']\n",
    "\n",
    "data=[]\n",
    "for area in areas:\n",
    "    for pregunta in preguntas:\n",
    "        for i, alternativa in enumerate(alternativas):\n",
    "            item = {area+\"_\"+pregunta+\"_\"+alternativa: i}\n",
    "            data.append(item)\n",
    "print(data)"
   ]
  },
  {
   "cell_type": "code",
   "execution_count": null,
   "metadata": {},
   "outputs": [
    {
     "data": {
      "text/plain": [
       "['im', 'tei']"
      ]
     },
     "execution_count": 11,
     "metadata": {},
     "output_type": "execute_result"
    }
   ],
   "source": [
    "list(survey.index[:2])"
   ]
  },
  {
   "cell_type": "code",
   "execution_count": null,
   "metadata": {},
   "outputs": [
    {
     "data": {
      "text/plain": [
       "'Revisar televisores.'"
      ]
     },
     "execution_count": 7,
     "metadata": {},
     "output_type": "execute_result"
    }
   ],
   "source": [
    "survey['q1']['im']"
   ]
  },
  {
   "cell_type": "code",
   "execution_count": null,
   "metadata": {},
   "outputs": [
    {
     "data": {
      "text/plain": [
       "Index(['q1', 'q2', 'q3', 'q4', 'q5', 'q6', 'q7'], dtype='object')"
      ]
     },
     "execution_count": 12,
     "metadata": {},
     "output_type": "execute_result"
    }
   ],
   "source": [
    "survey.columns[1:]"
   ]
  }
 ],
 "metadata": {
  "kernelspec": {
   "display_name": "Python 3.9.12 64-bit",
   "language": "python",
   "name": "python3"
  },
  "language_info": {
   "codemirror_mode": {
    "name": "ipython",
    "version": 3
   },
   "file_extension": ".py",
   "mimetype": "text/x-python",
   "name": "python",
   "nbconvert_exporter": "python",
   "pygments_lexer": "ipython3",
   "version": "3.9.12"
  },
  "orig_nbformat": 4,
  "vscode": {
   "interpreter": {
    "hash": "aee8b7b246df8f9039afb4144a1f6fd8d2ca17a180786b69acc140d282b71a49"
   }
  }
 },
 "nbformat": 4,
 "nbformat_minor": 2
}
